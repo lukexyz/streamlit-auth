{
 "cells": [
  {
   "cell_type": "code",
   "execution_count": 2,
   "metadata": {},
   "outputs": [],
   "source": [
    "import streamlit as st\n",
    "import streamlit_authenticator as stauth\n"
   ]
  },
  {
   "attachments": {},
   "cell_type": "markdown",
   "metadata": {},
   "source": [
    "## Password Hash\n",
    "* Add these hashed passwords to the `config.yaml` file (under password)"
   ]
  },
  {
   "cell_type": "code",
   "execution_count": 6,
   "metadata": {},
   "outputs": [],
   "source": [
    "# i.e.\n",
    "hashed_passwords = stauth.Hasher(['abc', 'def']).generate()"
   ]
  },
  {
   "cell_type": "code",
   "execution_count": 7,
   "metadata": {},
   "outputs": [
    {
     "data": {
      "text/plain": [
       "['$2b$12$srZzU9SigrfGRbhbA6FCkOPOtnaVbPGQNGSYuLCpuJ5T6xsiTHdVa',\n",
       " '$2b$12$KRXRAPulk.wRvDWd.BWJGeqzU9McUtWQ2CgJ28dvsqGoNuaf.qu6i']"
      ]
     },
     "execution_count": 7,
     "metadata": {},
     "output_type": "execute_result"
    }
   ],
   "source": [
    "hashed_passwords"
   ]
  }
 ],
 "metadata": {
  "kernelspec": {
   "display_name": "streamlit-auth",
   "language": "python",
   "name": "python3"
  },
  "language_info": {
   "codemirror_mode": {
    "name": "ipython",
    "version": 3
   },
   "file_extension": ".py",
   "mimetype": "text/x-python",
   "name": "python",
   "nbconvert_exporter": "python",
   "pygments_lexer": "ipython3",
   "version": "3.10.9"
  },
  "orig_nbformat": 4,
  "vscode": {
   "interpreter": {
    "hash": "fb0685888cfa4b5139bed619d5eb2a6f15bf599f65a4bc1de49fb4d1aef6b6c1"
   }
  }
 },
 "nbformat": 4,
 "nbformat_minor": 2
}
